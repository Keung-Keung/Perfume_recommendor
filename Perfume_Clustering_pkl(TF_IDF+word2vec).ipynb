{
  "nbformat": 4,
  "nbformat_minor": 0,
  "metadata": {
    "colab": {
      "provenance": [],
      "gpuType": "T4"
    },
    "kernelspec": {
      "name": "python3",
      "display_name": "Python 3"
    },
    "language_info": {
      "name": "python"
    },
    "accelerator": "GPU"
  },
  "cells": [
    {
      "cell_type": "code",
      "execution_count": null,
      "metadata": {
        "id": "AUHmzaGfSpWW"
      },
      "outputs": [],
      "source": [
        "import pandas as pd\n",
        "import math\n",
        "import ast\n",
        "import torch"
      ]
    },
    {
      "cell_type": "code",
      "source": [
        "# GPU가 사용 가능한지 확인 및 사용\n",
        "if torch.cuda.is_available():\n",
        "    device = torch.device(\"cuda\")\n",
        "    print('There are %d GPU(s) available.' % torch.cuda.device_count())\n",
        "    print('We will use the GPU:', torch.cuda.get_device_name(0))\n",
        "\n",
        "else:\n",
        "    print('No GPU available, using the CPU instead.')\n",
        "    device = torch.device(\"cpu\")"
      ],
      "metadata": {
        "colab": {
          "base_uri": "https://localhost:8080/"
        },
        "id": "LgCVvvV8WLEe",
        "outputId": "711b6d48-44c7-441b-a713-ef646c23489e"
      },
      "execution_count": null,
      "outputs": [
        {
          "output_type": "stream",
          "name": "stdout",
          "text": [
            "There are 1 GPU(s) available.\n",
            "We will use the GPU: Tesla T4\n"
          ]
        }
      ]
    },
    {
      "cell_type": "code",
      "source": [
        "from google.colab import drive\n",
        "import pandas as pd\n",
        "\n",
        "# Google Drive 마운트\n",
        "drive.mount('/content/drive')\n"
      ],
      "metadata": {
        "colab": {
          "base_uri": "https://localhost:8080/"
        },
        "id": "inhRSRHhTNvS",
        "outputId": "35196cc2-0690-4188-b47d-70a1b38a6674"
      },
      "execution_count": null,
      "outputs": [
        {
          "output_type": "stream",
          "name": "stdout",
          "text": [
            "Mounted at /content/drive\n"
          ]
        }
      ]
    },
    {
      "cell_type": "code",
      "source": [
        "\n",
        "# 파일 경로\n",
        "file_path = '/content/drive/My Drive/Colab Notebooks/CJ_Hackathon/Data/'\n",
        "\n",
        "#로드\n",
        "df = pd.read_excel(file_path + 'perfume_database.xlsx')\n"
      ],
      "metadata": {
        "id": "Jr6dLrtuTOMt"
      },
      "execution_count": null,
      "outputs": []
    },
    {
      "cell_type": "code",
      "source": [
        "df.columns"
      ],
      "metadata": {
        "colab": {
          "base_uri": "https://localhost:8080/"
        },
        "id": "TAJorEtRTQXE",
        "outputId": "be6b693e-1c28-42c5-944f-a866c341da51"
      },
      "execution_count": null,
      "outputs": [
        {
          "output_type": "execute_result",
          "data": {
            "text/plain": [
              "Index(['brand', 'perfume', 'image', 'main_accords', 'top notes',\n",
              "       'middle notes', 'base notes'],\n",
              "      dtype='object')"
            ]
          },
          "metadata": {},
          "execution_count": 5
        }
      ]
    },
    {
      "cell_type": "code",
      "source": [
        "df = df.dropna(subset=['main_accords'])\n"
      ],
      "metadata": {
        "id": "czVBy5IIdCBD"
      },
      "execution_count": null,
      "outputs": []
    },
    {
      "cell_type": "code",
      "source": [
        "#사용예정 컬럼 추출\n",
        "df_col = df[['perfume', 'main_accords', 'top notes','middle notes', 'base notes']]"
      ],
      "metadata": {
        "id": "450wJcj6TR0u"
      },
      "execution_count": null,
      "outputs": []
    },
    {
      "cell_type": "markdown",
      "source": [
        "# Preprocessing"
      ],
      "metadata": {
        "id": "hNYRIAgSTmIq"
      }
    },
    {
      "cell_type": "code",
      "source": [
        "# 'main_accords' 컬럼의 값들을 쉼표 기준으로 분리\n",
        "accords = df_col['main_accords'].str.split(',')\n",
        "\n",
        "# 각 단어를 두 번씩 포함하는 새로운 리스트 생성\n",
        "double_accords = accords.apply(lambda x: [item for item in x for _ in range(2)])\n",
        "\n",
        "# 새로운 리스트를 쉼표로 연결하여 문자열로 변환\n",
        "df_col['main_accords'] = double_accords.apply(lambda x: ','.join(x))\n"
      ],
      "metadata": {
        "colab": {
          "base_uri": "https://localhost:8080/"
        },
        "id": "J9J0hI0ocWlX",
        "outputId": "882ae6d9-c10d-4fb5-aa2a-9fe03ff65835"
      },
      "execution_count": null,
      "outputs": [
        {
          "output_type": "stream",
          "name": "stderr",
          "text": [
            "<ipython-input-8-7e9b4bb349e6>:8: SettingWithCopyWarning: \n",
            "A value is trying to be set on a copy of a slice from a DataFrame.\n",
            "Try using .loc[row_indexer,col_indexer] = value instead\n",
            "\n",
            "See the caveats in the documentation: https://pandas.pydata.org/pandas-docs/stable/user_guide/indexing.html#returning-a-view-versus-a-copy\n",
            "  df_col['main_accords'] = double_accords.apply(lambda x: ','.join(x))\n"
          ]
        }
      ]
    },
    {
      "cell_type": "markdown",
      "source": [
        "### Text preprocessing(clean text)"
      ],
      "metadata": {
        "id": "xVROFxabUhpS"
      }
    },
    {
      "cell_type": "code",
      "source": [
        "import nltk\n",
        "nltk.download('stopwords')\n",
        "nltk.download('punkt')\n",
        "\n"
      ],
      "metadata": {
        "colab": {
          "base_uri": "https://localhost:8080/"
        },
        "id": "DdxJ_YJ1Wx6C",
        "outputId": "bd6b1f00-3901-4aea-f65b-b9758fcd1d63"
      },
      "execution_count": null,
      "outputs": [
        {
          "output_type": "stream",
          "name": "stderr",
          "text": [
            "[nltk_data] Downloading package stopwords to /root/nltk_data...\n",
            "[nltk_data]   Unzipping corpora/stopwords.zip.\n",
            "[nltk_data] Downloading package punkt to /root/nltk_data...\n",
            "[nltk_data]   Unzipping tokenizers/punkt.zip.\n"
          ]
        },
        {
          "output_type": "execute_result",
          "data": {
            "text/plain": [
              "True"
            ]
          },
          "metadata": {},
          "execution_count": 9
        }
      ]
    },
    {
      "cell_type": "code",
      "source": [
        "from nltk.corpus import stopwords\n",
        "from nltk.stem import SnowballStemmer\n",
        "from nltk.tokenize import RegexpTokenizer\n",
        "from nltk.tokenize import word_tokenize"
      ],
      "metadata": {
        "id": "1AVteUUrUpIA"
      },
      "execution_count": null,
      "outputs": []
    },
    {
      "cell_type": "code",
      "source": [
        "# 어간 추출\n",
        "def stem_words(text):\n",
        "    stemmer = SnowballStemmer('english')\n",
        "    stemmed_words = [stemmer.stem(word) for word in text]\n",
        "    text = \" \".join(stemmed_words)\n",
        "    return text\n",
        "\n",
        "\n",
        "# 소문자 변환\n",
        "def make_lower_case(text):\n",
        "    return \" \".join([word.lower() for word in text.split()])\n",
        "\n",
        "# 불용어 제거\n",
        "def remove_stop_words(text):\n",
        "    stops = set(stopwords.words(\"english\"))\n",
        "    text = [w for w in text if not w in stops]\n",
        "    text = \" \".join(text)\n",
        "    return text\n",
        "\n",
        "\n",
        "# 따옴표 제거\n",
        "def remove_quotes(text):\n",
        "    if isinstance(text, str):\n",
        "        return text.replace('\"', \"\")\n",
        "    elif isinstance(text, list):\n",
        "        return [\"\".join(t).replace('\"', \"\") for t in text]\n",
        "    else:\n",
        "        return text\n",
        "\n",
        "# 쉼표 제거\n",
        "def remove_commas(text):\n",
        "    if isinstance(text, list):\n",
        "        return [t.rstrip(',') for t in text]\n",
        "    else:\n",
        "        return text\n",
        "\n"
      ],
      "metadata": {
        "id": "oR6VSBEsUID7"
      },
      "execution_count": null,
      "outputs": []
    },
    {
      "cell_type": "code",
      "source": [
        "# 소문자 변환\n",
        "df['main accords_pre'] = df_col['main_accords'].astype(str).apply(make_lower_case)\n",
        "df['perfume_pre'] = df_col['perfume'].astype(str).apply(make_lower_case)\n",
        "df['main accords_pre'] = df_col['main_accords'].astype(str).apply(make_lower_case)\n",
        "df['top notes_pre'] = df_col['top notes'].astype(str).apply(make_lower_case)\n",
        "df['middle notes_pre'] = df_col['middle notes'].astype(str).apply(make_lower_case)\n",
        "df['base notes_pre'] = df_col['base notes'].astype(str).apply(make_lower_case)"
      ],
      "metadata": {
        "id": "_tTsO2_FdqOv"
      },
      "execution_count": null,
      "outputs": []
    },
    {
      "cell_type": "code",
      "source": [
        "df['main accords_pre'] = df_col['main_accords'].apply(make_lower_case)\n",
        "df['main accords_pre'] = df_col['main_accords'].apply(remove_stop_words)\n",
        "df['main accords_pre'] = df_col['main_accords'].apply(stem_words)\n",
        "df['main accords_pre'] = df_col['main_accords'].apply(remove_quotes)\n",
        "df['main accords_pre'] = df_col['main_accords'].apply(remove_commas)"
      ],
      "metadata": {
        "id": "cHhfjky68HP0"
      },
      "execution_count": null,
      "outputs": []
    },
    {
      "cell_type": "code",
      "source": [
        "df['main accords_pre'][:3]"
      ],
      "metadata": {
        "colab": {
          "base_uri": "https://localhost:8080/"
        },
        "id": "bfZFTuMi8L-Y",
        "outputId": "1d9480c2-e950-4dbf-e6fa-37ad7613c9bd"
      },
      "execution_count": null,
      "outputs": [
        {
          "output_type": "execute_result",
          "data": {
            "text/plain": [
              "0    wine,wine, vanilla, vanilla, sweet, sweet, woo...\n",
              "1    woody,woody, musky, musky, balsamic, balsamic,...\n",
              "2    yellow floral,yellow floral, white floral, whi...\n",
              "Name: main accords_pre, dtype: object"
            ]
          },
          "metadata": {},
          "execution_count": 14
        }
      ]
    },
    {
      "cell_type": "code",
      "source": [
        "df_col['perfume'] = df_col['perfume'].astype(str)\n",
        "\n",
        "df['perfume_pre'] = df_col['perfume'].apply(make_lower_case)\n",
        "df['perfume_pre'] = df_col['perfume'].apply(remove_stop_words)\n",
        "df['perfume_pre'] = df_col['perfume'].apply(stem_words)\n",
        "df['perfume_pre'] = df_col['perfume'].apply(remove_quotes)\n",
        "df['perfume_pre'] = df_col['perfume'].apply(remove_commas)\n"
      ],
      "metadata": {
        "id": "3k9ayymtYHYs",
        "colab": {
          "base_uri": "https://localhost:8080/"
        },
        "outputId": "b6a7d50f-8b6c-44a8-e36c-c50123528eb9"
      },
      "execution_count": null,
      "outputs": [
        {
          "output_type": "stream",
          "name": "stderr",
          "text": [
            "<ipython-input-15-83871b2f9b3f>:1: SettingWithCopyWarning: \n",
            "A value is trying to be set on a copy of a slice from a DataFrame.\n",
            "Try using .loc[row_indexer,col_indexer] = value instead\n",
            "\n",
            "See the caveats in the documentation: https://pandas.pydata.org/pandas-docs/stable/user_guide/indexing.html#returning-a-view-versus-a-copy\n",
            "  df_col['perfume'] = df_col['perfume'].astype(str)\n"
          ]
        }
      ]
    },
    {
      "cell_type": "code",
      "source": [
        "df['main accords_pre'] = df_col['main_accords'].apply(make_lower_case)\n",
        "df['main accords_pre'] = df_col['main_accords'].apply(remove_stop_words)\n",
        "df['main accords_pre'] = df_col['main_accords'].apply(stem_words)\n",
        "df['main accords_pre'] = df_col['main_accords'].apply(remove_quotes)\n",
        "df['main accords_pre'] = df_col['main_accords'].apply(remove_commas)\n",
        "\n"
      ],
      "metadata": {
        "id": "AX2_ldw3VFCA"
      },
      "execution_count": null,
      "outputs": []
    },
    {
      "cell_type": "code",
      "source": [
        "df_col['top notes'] = df_col['top notes'].astype(str)\n",
        "\n",
        "df['top notes_pre'] = df_col['top notes'].apply(stem_words)\n",
        "df['top notes_pre'] = df_col['top notes'].apply(make_lower_case)\n",
        "df['top notes_pre'] = df_col['top notes'].apply(remove_stop_words)\n",
        "df['top notes_pre'] = df_col['top notes'].apply(remove_quotes)\n",
        "df['top notes_pre'] = df_col['top notes'].apply(remove_commas)\n"
      ],
      "metadata": {
        "id": "ZiJ6wl-pVJMX",
        "colab": {
          "base_uri": "https://localhost:8080/"
        },
        "outputId": "a9a7b9e6-3d9e-4c29-bdbe-f005dd2e2659"
      },
      "execution_count": null,
      "outputs": [
        {
          "output_type": "stream",
          "name": "stderr",
          "text": [
            "<ipython-input-17-80456309f503>:1: SettingWithCopyWarning: \n",
            "A value is trying to be set on a copy of a slice from a DataFrame.\n",
            "Try using .loc[row_indexer,col_indexer] = value instead\n",
            "\n",
            "See the caveats in the documentation: https://pandas.pydata.org/pandas-docs/stable/user_guide/indexing.html#returning-a-view-versus-a-copy\n",
            "  df_col['top notes'] = df_col['top notes'].astype(str)\n"
          ]
        }
      ]
    },
    {
      "cell_type": "code",
      "source": [
        "df_col['middle notes'] = df_col['middle notes'].astype(str)\n",
        "\n",
        "df['middle notes_pre'] = df_col['middle notes'].apply(stem_words)\n",
        "df['middle notes_pre'] = df_col['middle notes'].apply(make_lower_case)\n",
        "df['middle notes_pre'] = df_col['middle notes'].apply(remove_stop_words)\n",
        "df['middle notes_pre'] = df_col['middle notes'].apply(remove_quotes)\n",
        "df['middle notes_pre'] = df_col['middle notes'].apply(remove_commas)\n"
      ],
      "metadata": {
        "id": "fewa8aobVQqG",
        "colab": {
          "base_uri": "https://localhost:8080/"
        },
        "outputId": "5702f91c-ad47-49cf-a0a9-227cf50fdd48"
      },
      "execution_count": null,
      "outputs": [
        {
          "output_type": "stream",
          "name": "stderr",
          "text": [
            "<ipython-input-18-82735ecac27f>:1: SettingWithCopyWarning: \n",
            "A value is trying to be set on a copy of a slice from a DataFrame.\n",
            "Try using .loc[row_indexer,col_indexer] = value instead\n",
            "\n",
            "See the caveats in the documentation: https://pandas.pydata.org/pandas-docs/stable/user_guide/indexing.html#returning-a-view-versus-a-copy\n",
            "  df_col['middle notes'] = df_col['middle notes'].astype(str)\n"
          ]
        }
      ]
    },
    {
      "cell_type": "code",
      "source": [
        "df_col['base notes'] = df_col['base notes'].astype(str)\n",
        "\n",
        "df['base notes_pre'] = df_col['base notes'].apply(stem_words)\n",
        "df['base notes_pre'] = df_col['base notes'].apply(make_lower_case)\n",
        "df['base notes_pre'] = df_col['base notes'].apply(remove_stop_words)\n",
        "df['base notes_pre'] = df_col['base notes'].apply(remove_quotes)\n",
        "df['base notes_pre'] = df_col['base notes'].apply(remove_commas)\n"
      ],
      "metadata": {
        "id": "5dRgpGnDXVZ3",
        "colab": {
          "base_uri": "https://localhost:8080/"
        },
        "outputId": "3cf0454a-d634-4cb6-ca94-cd34c398173c"
      },
      "execution_count": null,
      "outputs": [
        {
          "output_type": "stream",
          "name": "stderr",
          "text": [
            "<ipython-input-19-15adfd18cda1>:1: SettingWithCopyWarning: \n",
            "A value is trying to be set on a copy of a slice from a DataFrame.\n",
            "Try using .loc[row_indexer,col_indexer] = value instead\n",
            "\n",
            "See the caveats in the documentation: https://pandas.pydata.org/pandas-docs/stable/user_guide/indexing.html#returning-a-view-versus-a-copy\n",
            "  df_col['base notes'] = df_col['base notes'].astype(str)\n"
          ]
        }
      ]
    },
    {
      "cell_type": "code",
      "source": [
        "df_nltk = df[['perfume_pre', 'main accords_pre',\n",
        "              'top notes_pre','middle notes_pre','base notes_pre']]"
      ],
      "metadata": {
        "id": "8YVKJGg0dV-i"
      },
      "execution_count": null,
      "outputs": []
    },
    {
      "cell_type": "markdown",
      "source": [
        "# Word2vec imbedding (using TF-IDF)"
      ],
      "metadata": {
        "id": "hPH-OSQMX0C7"
      }
    },
    {
      "cell_type": "markdown",
      "source": [
        "TF-IDF 벡터화를 이용하면 단어의 빈도가 높고 문서 간에 잘 분포되어 있는 단어일수록 높은 가중치를 가지게 된다. 이렇게 계산된 TF-IDF 가중치를 Word2Vec 임베딩 벡터에 곱하면, 가중치가 큰 단어의 임베딩 벡터 값이 더 크게 반영되어 분류 모델 성능의 향상을 기대할 수 있을 것이다\n",
        "."
      ],
      "metadata": {
        "id": "z9Sgoizydxwl"
      }
    },
    {
      "cell_type": "code",
      "source": [
        "df_nltk['full_document'] = df_nltk['perfume_pre'].astype(str) + ' ' \\\n",
        "+ df_nltk['main accords_pre'].astype(str) + ' ' \\\n",
        "+ df_nltk['top notes_pre'].astype(str) + ' ' \\\n",
        "+ df_nltk['middle notes_pre'].astype(str) + ' ' \\\n",
        "+ df_nltk['base notes_pre'].astype(str)\n"
      ],
      "metadata": {
        "colab": {
          "base_uri": "https://localhost:8080/"
        },
        "id": "uu25CzQJaUuF",
        "outputId": "b7190528-25e7-4745-c88f-26eec44a72a5"
      },
      "execution_count": null,
      "outputs": [
        {
          "output_type": "stream",
          "name": "stderr",
          "text": [
            "<ipython-input-21-19c1fd26747a>:1: SettingWithCopyWarning: \n",
            "A value is trying to be set on a copy of a slice from a DataFrame.\n",
            "Try using .loc[row_indexer,col_indexer] = value instead\n",
            "\n",
            "See the caveats in the documentation: https://pandas.pydata.org/pandas-docs/stable/user_guide/indexing.html#returning-a-view-versus-a-copy\n",
            "  df_nltk['full_document'] = df_nltk['perfume_pre'].astype(str) + ' ' \\\n"
          ]
        }
      ]
    },
    {
      "cell_type": "code",
      "source": [
        "df_nltk.head()"
      ],
      "metadata": {
        "colab": {
          "base_uri": "https://localhost:8080/",
          "height": 362
        },
        "id": "qlGqOAsqnpy2",
        "outputId": "f318ea93-61a2-409f-b413-8d0a801fcf95"
      },
      "execution_count": null,
      "outputs": [
        {
          "output_type": "execute_result",
          "data": {
            "text/plain": [
              "             perfume_pre                                   main accords_pre  \\\n",
              "0  Sweet Tobacco Spirits  wine,wine, vanilla, vanilla, sweet, sweet, woo...   \n",
              "1          Cashmere Musk  woody,woody, musky, musky, balsamic, balsamic,...   \n",
              "2     Exotic Ylang Ylang  yellow floral,yellow floral, white floral, whi...   \n",
              "3        Exquisite Amber  balsamic,balsamic, vanilla, vanilla, amber, am...   \n",
              "4           Oudwood Veil  oud,oud, amber, amber, fresh spicy, fresh spic...   \n",
              "\n",
              "  top notes_pre                                   middle notes_pre  \\\n",
              "0           nan  citruses, saffron, tonka bean, vanilla, exotic...   \n",
              "1           nan       sandalwood, cedar, white musk, cashmere wood   \n",
              "2           nan                        ylang-ylang, gardenia, musk   \n",
              "3           nan           labdanum, styrax, benzoin, vanilla, musk   \n",
              "4           nan                           kephalis, agarwood (oud)   \n",
              "\n",
              "  base notes_pre                                      full_document  \n",
              "0            nan  Sweet Tobacco Spirits wine,wine, vanilla, vani...  \n",
              "1            nan  Cashmere Musk woody,woody, musky, musky, balsa...  \n",
              "2            nan  Exotic Ylang Ylang yellow floral,yellow floral...  \n",
              "3            nan  Exquisite Amber balsamic,balsamic, vanilla, va...  \n",
              "4            nan  Oudwood Veil oud,oud, amber, amber, fresh spic...  "
            ],
            "text/html": [
              "\n",
              "  <div id=\"df-f4cced1c-185a-4c03-8952-77d02c257077\" class=\"colab-df-container\">\n",
              "    <div>\n",
              "<style scoped>\n",
              "    .dataframe tbody tr th:only-of-type {\n",
              "        vertical-align: middle;\n",
              "    }\n",
              "\n",
              "    .dataframe tbody tr th {\n",
              "        vertical-align: top;\n",
              "    }\n",
              "\n",
              "    .dataframe thead th {\n",
              "        text-align: right;\n",
              "    }\n",
              "</style>\n",
              "<table border=\"1\" class=\"dataframe\">\n",
              "  <thead>\n",
              "    <tr style=\"text-align: right;\">\n",
              "      <th></th>\n",
              "      <th>perfume_pre</th>\n",
              "      <th>main accords_pre</th>\n",
              "      <th>top notes_pre</th>\n",
              "      <th>middle notes_pre</th>\n",
              "      <th>base notes_pre</th>\n",
              "      <th>full_document</th>\n",
              "    </tr>\n",
              "  </thead>\n",
              "  <tbody>\n",
              "    <tr>\n",
              "      <th>0</th>\n",
              "      <td>Sweet Tobacco Spirits</td>\n",
              "      <td>wine,wine, vanilla, vanilla, sweet, sweet, woo...</td>\n",
              "      <td>nan</td>\n",
              "      <td>citruses, saffron, tonka bean, vanilla, exotic...</td>\n",
              "      <td>nan</td>\n",
              "      <td>Sweet Tobacco Spirits wine,wine, vanilla, vani...</td>\n",
              "    </tr>\n",
              "    <tr>\n",
              "      <th>1</th>\n",
              "      <td>Cashmere Musk</td>\n",
              "      <td>woody,woody, musky, musky, balsamic, balsamic,...</td>\n",
              "      <td>nan</td>\n",
              "      <td>sandalwood, cedar, white musk, cashmere wood</td>\n",
              "      <td>nan</td>\n",
              "      <td>Cashmere Musk woody,woody, musky, musky, balsa...</td>\n",
              "    </tr>\n",
              "    <tr>\n",
              "      <th>2</th>\n",
              "      <td>Exotic Ylang Ylang</td>\n",
              "      <td>yellow floral,yellow floral, white floral, whi...</td>\n",
              "      <td>nan</td>\n",
              "      <td>ylang-ylang, gardenia, musk</td>\n",
              "      <td>nan</td>\n",
              "      <td>Exotic Ylang Ylang yellow floral,yellow floral...</td>\n",
              "    </tr>\n",
              "    <tr>\n",
              "      <th>3</th>\n",
              "      <td>Exquisite Amber</td>\n",
              "      <td>balsamic,balsamic, vanilla, vanilla, amber, am...</td>\n",
              "      <td>nan</td>\n",
              "      <td>labdanum, styrax, benzoin, vanilla, musk</td>\n",
              "      <td>nan</td>\n",
              "      <td>Exquisite Amber balsamic,balsamic, vanilla, va...</td>\n",
              "    </tr>\n",
              "    <tr>\n",
              "      <th>4</th>\n",
              "      <td>Oudwood Veil</td>\n",
              "      <td>oud,oud, amber, amber, fresh spicy, fresh spic...</td>\n",
              "      <td>nan</td>\n",
              "      <td>kephalis, agarwood (oud)</td>\n",
              "      <td>nan</td>\n",
              "      <td>Oudwood Veil oud,oud, amber, amber, fresh spic...</td>\n",
              "    </tr>\n",
              "  </tbody>\n",
              "</table>\n",
              "</div>\n",
              "    <div class=\"colab-df-buttons\">\n",
              "\n",
              "  <div class=\"colab-df-container\">\n",
              "    <button class=\"colab-df-convert\" onclick=\"convertToInteractive('df-f4cced1c-185a-4c03-8952-77d02c257077')\"\n",
              "            title=\"Convert this dataframe to an interactive table.\"\n",
              "            style=\"display:none;\">\n",
              "\n",
              "  <svg xmlns=\"http://www.w3.org/2000/svg\" height=\"24px\" viewBox=\"0 -960 960 960\">\n",
              "    <path d=\"M120-120v-720h720v720H120Zm60-500h600v-160H180v160Zm220 220h160v-160H400v160Zm0 220h160v-160H400v160ZM180-400h160v-160H180v160Zm440 0h160v-160H620v160ZM180-180h160v-160H180v160Zm440 0h160v-160H620v160Z\"/>\n",
              "  </svg>\n",
              "    </button>\n",
              "\n",
              "  <style>\n",
              "    .colab-df-container {\n",
              "      display:flex;\n",
              "      gap: 12px;\n",
              "    }\n",
              "\n",
              "    .colab-df-convert {\n",
              "      background-color: #E8F0FE;\n",
              "      border: none;\n",
              "      border-radius: 50%;\n",
              "      cursor: pointer;\n",
              "      display: none;\n",
              "      fill: #1967D2;\n",
              "      height: 32px;\n",
              "      padding: 0 0 0 0;\n",
              "      width: 32px;\n",
              "    }\n",
              "\n",
              "    .colab-df-convert:hover {\n",
              "      background-color: #E2EBFA;\n",
              "      box-shadow: 0px 1px 2px rgba(60, 64, 67, 0.3), 0px 1px 3px 1px rgba(60, 64, 67, 0.15);\n",
              "      fill: #174EA6;\n",
              "    }\n",
              "\n",
              "    .colab-df-buttons div {\n",
              "      margin-bottom: 4px;\n",
              "    }\n",
              "\n",
              "    [theme=dark] .colab-df-convert {\n",
              "      background-color: #3B4455;\n",
              "      fill: #D2E3FC;\n",
              "    }\n",
              "\n",
              "    [theme=dark] .colab-df-convert:hover {\n",
              "      background-color: #434B5C;\n",
              "      box-shadow: 0px 1px 3px 1px rgba(0, 0, 0, 0.15);\n",
              "      filter: drop-shadow(0px 1px 2px rgba(0, 0, 0, 0.3));\n",
              "      fill: #FFFFFF;\n",
              "    }\n",
              "  </style>\n",
              "\n",
              "    <script>\n",
              "      const buttonEl =\n",
              "        document.querySelector('#df-f4cced1c-185a-4c03-8952-77d02c257077 button.colab-df-convert');\n",
              "      buttonEl.style.display =\n",
              "        google.colab.kernel.accessAllowed ? 'block' : 'none';\n",
              "\n",
              "      async function convertToInteractive(key) {\n",
              "        const element = document.querySelector('#df-f4cced1c-185a-4c03-8952-77d02c257077');\n",
              "        const dataTable =\n",
              "          await google.colab.kernel.invokeFunction('convertToInteractive',\n",
              "                                                    [key], {});\n",
              "        if (!dataTable) return;\n",
              "\n",
              "        const docLinkHtml = 'Like what you see? Visit the ' +\n",
              "          '<a target=\"_blank\" href=https://colab.research.google.com/notebooks/data_table.ipynb>data table notebook</a>'\n",
              "          + ' to learn more about interactive tables.';\n",
              "        element.innerHTML = '';\n",
              "        dataTable['output_type'] = 'display_data';\n",
              "        await google.colab.output.renderOutput(dataTable, element);\n",
              "        const docLink = document.createElement('div');\n",
              "        docLink.innerHTML = docLinkHtml;\n",
              "        element.appendChild(docLink);\n",
              "      }\n",
              "    </script>\n",
              "  </div>\n",
              "\n",
              "\n",
              "<div id=\"df-c8bebe68-e5a3-4a14-9ef8-f0f92552790b\">\n",
              "  <button class=\"colab-df-quickchart\" onclick=\"quickchart('df-c8bebe68-e5a3-4a14-9ef8-f0f92552790b')\"\n",
              "            title=\"Suggest charts.\"\n",
              "            style=\"display:none;\">\n",
              "\n",
              "<svg xmlns=\"http://www.w3.org/2000/svg\" height=\"24px\"viewBox=\"0 0 24 24\"\n",
              "     width=\"24px\">\n",
              "    <g>\n",
              "        <path d=\"M19 3H5c-1.1 0-2 .9-2 2v14c0 1.1.9 2 2 2h14c1.1 0 2-.9 2-2V5c0-1.1-.9-2-2-2zM9 17H7v-7h2v7zm4 0h-2V7h2v10zm4 0h-2v-4h2v4z\"/>\n",
              "    </g>\n",
              "</svg>\n",
              "  </button>\n",
              "\n",
              "<style>\n",
              "  .colab-df-quickchart {\n",
              "      --bg-color: #E8F0FE;\n",
              "      --fill-color: #1967D2;\n",
              "      --hover-bg-color: #E2EBFA;\n",
              "      --hover-fill-color: #174EA6;\n",
              "      --disabled-fill-color: #AAA;\n",
              "      --disabled-bg-color: #DDD;\n",
              "  }\n",
              "\n",
              "  [theme=dark] .colab-df-quickchart {\n",
              "      --bg-color: #3B4455;\n",
              "      --fill-color: #D2E3FC;\n",
              "      --hover-bg-color: #434B5C;\n",
              "      --hover-fill-color: #FFFFFF;\n",
              "      --disabled-bg-color: #3B4455;\n",
              "      --disabled-fill-color: #666;\n",
              "  }\n",
              "\n",
              "  .colab-df-quickchart {\n",
              "    background-color: var(--bg-color);\n",
              "    border: none;\n",
              "    border-radius: 50%;\n",
              "    cursor: pointer;\n",
              "    display: none;\n",
              "    fill: var(--fill-color);\n",
              "    height: 32px;\n",
              "    padding: 0;\n",
              "    width: 32px;\n",
              "  }\n",
              "\n",
              "  .colab-df-quickchart:hover {\n",
              "    background-color: var(--hover-bg-color);\n",
              "    box-shadow: 0 1px 2px rgba(60, 64, 67, 0.3), 0 1px 3px 1px rgba(60, 64, 67, 0.15);\n",
              "    fill: var(--button-hover-fill-color);\n",
              "  }\n",
              "\n",
              "  .colab-df-quickchart-complete:disabled,\n",
              "  .colab-df-quickchart-complete:disabled:hover {\n",
              "    background-color: var(--disabled-bg-color);\n",
              "    fill: var(--disabled-fill-color);\n",
              "    box-shadow: none;\n",
              "  }\n",
              "\n",
              "  .colab-df-spinner {\n",
              "    border: 2px solid var(--fill-color);\n",
              "    border-color: transparent;\n",
              "    border-bottom-color: var(--fill-color);\n",
              "    animation:\n",
              "      spin 1s steps(1) infinite;\n",
              "  }\n",
              "\n",
              "  @keyframes spin {\n",
              "    0% {\n",
              "      border-color: transparent;\n",
              "      border-bottom-color: var(--fill-color);\n",
              "      border-left-color: var(--fill-color);\n",
              "    }\n",
              "    20% {\n",
              "      border-color: transparent;\n",
              "      border-left-color: var(--fill-color);\n",
              "      border-top-color: var(--fill-color);\n",
              "    }\n",
              "    30% {\n",
              "      border-color: transparent;\n",
              "      border-left-color: var(--fill-color);\n",
              "      border-top-color: var(--fill-color);\n",
              "      border-right-color: var(--fill-color);\n",
              "    }\n",
              "    40% {\n",
              "      border-color: transparent;\n",
              "      border-right-color: var(--fill-color);\n",
              "      border-top-color: var(--fill-color);\n",
              "    }\n",
              "    60% {\n",
              "      border-color: transparent;\n",
              "      border-right-color: var(--fill-color);\n",
              "    }\n",
              "    80% {\n",
              "      border-color: transparent;\n",
              "      border-right-color: var(--fill-color);\n",
              "      border-bottom-color: var(--fill-color);\n",
              "    }\n",
              "    90% {\n",
              "      border-color: transparent;\n",
              "      border-bottom-color: var(--fill-color);\n",
              "    }\n",
              "  }\n",
              "</style>\n",
              "\n",
              "  <script>\n",
              "    async function quickchart(key) {\n",
              "      const quickchartButtonEl =\n",
              "        document.querySelector('#' + key + ' button');\n",
              "      quickchartButtonEl.disabled = true;  // To prevent multiple clicks.\n",
              "      quickchartButtonEl.classList.add('colab-df-spinner');\n",
              "      try {\n",
              "        const charts = await google.colab.kernel.invokeFunction(\n",
              "            'suggestCharts', [key], {});\n",
              "      } catch (error) {\n",
              "        console.error('Error during call to suggestCharts:', error);\n",
              "      }\n",
              "      quickchartButtonEl.classList.remove('colab-df-spinner');\n",
              "      quickchartButtonEl.classList.add('colab-df-quickchart-complete');\n",
              "    }\n",
              "    (() => {\n",
              "      let quickchartButtonEl =\n",
              "        document.querySelector('#df-c8bebe68-e5a3-4a14-9ef8-f0f92552790b button');\n",
              "      quickchartButtonEl.style.display =\n",
              "        google.colab.kernel.accessAllowed ? 'block' : 'none';\n",
              "    })();\n",
              "  </script>\n",
              "</div>\n",
              "    </div>\n",
              "  </div>\n"
            ]
          },
          "metadata": {},
          "execution_count": 22
        }
      ]
    },
    {
      "cell_type": "markdown",
      "source": [
        "## Tokenization"
      ],
      "metadata": {
        "id": "NMbcWVT-wpsu"
      }
    },
    {
      "cell_type": "code",
      "source": [
        "def tokenize(text):\n",
        "    tokens = text.split()  # 공백을 기준으로 분할\n",
        "    return tokens\n",
        "\n",
        "df_nltk['full_document'] = df_nltk['full_document'].apply(tokenize)\n"
      ],
      "metadata": {
        "colab": {
          "base_uri": "https://localhost:8080/"
        },
        "id": "ojUOkx4Twoxr",
        "outputId": "4e60495c-e7a9-4704-f406-59499254c68c"
      },
      "execution_count": null,
      "outputs": [
        {
          "output_type": "stream",
          "name": "stderr",
          "text": [
            "<ipython-input-23-9ba6da47687d>:5: SettingWithCopyWarning: \n",
            "A value is trying to be set on a copy of a slice from a DataFrame.\n",
            "Try using .loc[row_indexer,col_indexer] = value instead\n",
            "\n",
            "See the caveats in the documentation: https://pandas.pydata.org/pandas-docs/stable/user_guide/indexing.html#returning-a-view-versus-a-copy\n",
            "  df_nltk['full_document'] = df_nltk['full_document'].apply(tokenize)\n"
          ]
        }
      ]
    },
    {
      "cell_type": "code",
      "source": [
        "df_nltk['full_document'].head()"
      ],
      "metadata": {
        "colab": {
          "base_uri": "https://localhost:8080/"
        },
        "id": "-9lJ1p9cnjv2",
        "outputId": "ab426912-0f4e-420a-f288-ec74a60d69d6"
      },
      "execution_count": null,
      "outputs": [
        {
          "output_type": "execute_result",
          "data": {
            "text/plain": [
              "0    [Sweet, Tobacco, Spirits, wine,wine,, vanilla,...\n",
              "1    [Cashmere, Musk, woody,woody,, musky,, musky,,...\n",
              "2    [Exotic, Ylang, Ylang, yellow, floral,yellow, ...\n",
              "3    [Exquisite, Amber, balsamic,balsamic,, vanilla...\n",
              "4    [Oudwood, Veil, oud,oud,, amber,, amber,, fres...\n",
              "Name: full_document, dtype: object"
            ]
          },
          "metadata": {},
          "execution_count": 24
        }
      ]
    },
    {
      "cell_type": "markdown",
      "source": [
        "## TF-IDF 가중치 계산"
      ],
      "metadata": {
        "id": "IFEBh8wSdlmq"
      }
    },
    {
      "cell_type": "code",
      "source": [
        "from sklearn.feature_extraction.text import TfidfVectorizer\n",
        "\n",
        "\n",
        "df_nltk['full_document'].fillna('', inplace=True)\n",
        "\n",
        "# 'full_document' 컬럼으로부터 문장 리스트 생성\n",
        "sentences = df_nltk['full_document'].tolist()\n",
        "sentences = [' '.join(s) for s in sentences]\n",
        "sentences = [' '.join([word for word in s.split() if word != 'nan']) for s in sentences]\n",
        "\n",
        "\n",
        "# TF-IDF 벡터화\n",
        "vectorizer = TfidfVectorizer()\n",
        "tfidf_matrix = vectorizer.fit_transform(sentences)\n",
        "\n",
        "# 단어별 TF-IDF 가중치 계산\n",
        "word2weight = {word: tfidf_matrix.getcol(idx).sum() for word, idx in vectorizer.vocabulary_.items()}\n"
      ],
      "metadata": {
        "id": "Cu35oK1Pdkkh",
        "colab": {
          "base_uri": "https://localhost:8080/"
        },
        "outputId": "f77b37c4-621b-4540-a0b6-283c8282fdeb"
      },
      "execution_count": null,
      "outputs": [
        {
          "output_type": "stream",
          "name": "stderr",
          "text": [
            "<ipython-input-25-281c6b1a46f5>:4: SettingWithCopyWarning: \n",
            "A value is trying to be set on a copy of a slice from a DataFrame\n",
            "\n",
            "See the caveats in the documentation: https://pandas.pydata.org/pandas-docs/stable/user_guide/indexing.html#returning-a-view-versus-a-copy\n",
            "  df_nltk['full_document'].fillna('', inplace=True)\n"
          ]
        }
      ]
    },
    {
      "cell_type": "code",
      "source": [
        "top_10_weights = sorted(word2weight.items(), key=lambda x: x[1], reverse=True)[:10]\n",
        "\n",
        "for word, weight in top_10_weights:\n",
        "    print(f'단어: {word}, 가중치: {weight}')"
      ],
      "metadata": {
        "colab": {
          "base_uri": "https://localhost:8080/"
        },
        "id": "JiJrtlPmh9CC",
        "outputId": "9a09b479-8e7a-4409-d44c-eaa9785510dd"
      },
      "execution_count": null,
      "outputs": [
        {
          "output_type": "stream",
          "name": "stdout",
          "text": [
            "단어: floral, 가중치: 3897.5526999147305\n",
            "단어: spicy, 가중치: 3369.853173879749\n",
            "단어: woody, 가중치: 3177.028666480087\n",
            "단어: fresh, 가중치: 2900.008458201118\n",
            "단어: citrus, 가중치: 2769.153779817754\n",
            "단어: rose, 가중치: 2389.8146682768333\n",
            "단어: white, 가중치: 2325.6560890423198\n",
            "단어: aromatic, 가중치: 2320.7619374034257\n",
            "단어: green, 가중치: 2276.305215331437\n",
            "단어: sweet, 가중치: 2256.7182035922656\n"
          ]
        }
      ]
    },
    {
      "cell_type": "markdown",
      "source": [
        "## Word2vec을 통한 연관단어 임베딩"
      ],
      "metadata": {
        "id": "6i0vOTr2ZUK4"
      }
    },
    {
      "cell_type": "code",
      "source": [
        "from gensim.models import Word2Vec\n",
        "import numpy as np\n",
        "\n",
        "\n",
        "# Word2Vec 모델 학습\n",
        "model = Word2Vec(sentences, vector_size=100, window=5, min_count=1, workers=4)\n",
        "\n",
        "# 단어 임베딩 추출\n",
        "word_vectors = model.wv\n",
        "\n",
        "# TF-IDF 가중치 적용하여 임베딩 벡터 추출\n",
        "X = []\n",
        "for sentence in sentences:\n",
        "    embedding = []\n",
        "    for word in sentence:\n",
        "        if word in word_vectors.key_to_index:  # 단어가 Word2Vec 모델에 있는지 확인\n",
        "            # TF-IDF 가중치 적용하여 단어 임베딩 계산 (단어가 없으면 기본값 1.0 사용)\n",
        "            weighted_embedding = word_vectors.get_vector(word) * word2weight.get(word, 1.0)\n",
        "            embedding.append(weighted_embedding)\n",
        "    # 각 문장에 대해 단어 임베딩의 평균 계산 (단어가 하나도 없는 경우 제외)\n",
        "    if embedding:\n",
        "        average_embedding = np.mean(embedding, axis=0)\n",
        "        X.append(average_embedding)"
      ],
      "metadata": {
        "id": "pk6cBdhVbjtu",
        "colab": {
          "base_uri": "https://localhost:8080/"
        },
        "outputId": "9d7d0568-74f0-4310-f436-629e5aee08f0"
      },
      "execution_count": null,
      "outputs": [
        {
          "output_type": "stream",
          "name": "stderr",
          "text": [
            "WARNING:gensim.models.word2vec:Each 'sentences' item should be a list of words (usually unicode strings). First item here is instead plain <class 'str'>.\n"
          ]
        }
      ]
    },
    {
      "cell_type": "code",
      "source": [
        "import pickle\n",
        "\n",
        "# 평균 임베딩을 pickle 파일로 저장\n",
        "with open('embedding_result_perfume.pkl', 'wb') as f:\n",
        "    pickle.dump(X, f)"
      ],
      "metadata": {
        "id": "X1TuHvFwELot"
      },
      "execution_count": null,
      "outputs": []
    },
    {
      "cell_type": "markdown",
      "source": [
        "# Clustering"
      ],
      "metadata": {
        "id": "utjTzaIee-aV"
      }
    },
    {
      "cell_type": "markdown",
      "source": [
        "## 최적의 K를 위한 Elbow Point 확인"
      ],
      "metadata": {
        "id": "1VAhRNclfEf7"
      }
    },
    {
      "cell_type": "code",
      "source": [
        "from sklearn.cluster import KMeans\n",
        "from sklearn.metrics import silhouette_score\n",
        "import matplotlib.pyplot as plt"
      ],
      "metadata": {
        "id": "uHoqLuB1dSKQ"
      },
      "execution_count": null,
      "outputs": []
    },
    {
      "cell_type": "code",
      "source": [
        "# 군집 개수 범위 설정\n",
        "min_k = 2  # 최소 군집 개수\n",
        "max_k = 10  # 최대 군집 개수\n",
        "\n",
        "# 군집 내 제곱 합 기록\n",
        "inertia_values = []\n",
        "\n",
        "for k in range(min_k, max_k + 1):\n",
        "    # K-means 군집화\n",
        "    kmeans = KMeans(n_clusters=k)\n",
        "    kmeans.fit(X)\n",
        "    inertia_values.append(kmeans.inertia_)\n",
        "\n",
        "# 군집 개수에 따른 군집 내 제곱 합 시각화\n",
        "plt.plot(range(min_k, max_k + 1), inertia_values, marker='o')\n",
        "plt.xlabel('Number of clusters')\n",
        "plt.ylabel('Inertia')\n",
        "plt.title('Elbow Method for optimal K')\n",
        "plt.show()\n"
      ],
      "metadata": {
        "colab": {
          "base_uri": "https://localhost:8080/",
          "height": 813
        },
        "id": "7dU2WQyPbryU",
        "outputId": "0902bae0-b9d4-4435-b772-bd6a666f9278"
      },
      "execution_count": null,
      "outputs": [
        {
          "output_type": "stream",
          "name": "stderr",
          "text": [
            "/usr/local/lib/python3.10/dist-packages/sklearn/cluster/_kmeans.py:870: FutureWarning: The default value of `n_init` will change from 10 to 'auto' in 1.4. Set the value of `n_init` explicitly to suppress the warning\n",
            "  warnings.warn(\n",
            "/usr/local/lib/python3.10/dist-packages/sklearn/cluster/_kmeans.py:870: FutureWarning: The default value of `n_init` will change from 10 to 'auto' in 1.4. Set the value of `n_init` explicitly to suppress the warning\n",
            "  warnings.warn(\n",
            "/usr/local/lib/python3.10/dist-packages/sklearn/cluster/_kmeans.py:870: FutureWarning: The default value of `n_init` will change from 10 to 'auto' in 1.4. Set the value of `n_init` explicitly to suppress the warning\n",
            "  warnings.warn(\n",
            "/usr/local/lib/python3.10/dist-packages/sklearn/cluster/_kmeans.py:870: FutureWarning: The default value of `n_init` will change from 10 to 'auto' in 1.4. Set the value of `n_init` explicitly to suppress the warning\n",
            "  warnings.warn(\n",
            "/usr/local/lib/python3.10/dist-packages/sklearn/cluster/_kmeans.py:870: FutureWarning: The default value of `n_init` will change from 10 to 'auto' in 1.4. Set the value of `n_init` explicitly to suppress the warning\n",
            "  warnings.warn(\n",
            "/usr/local/lib/python3.10/dist-packages/sklearn/cluster/_kmeans.py:870: FutureWarning: The default value of `n_init` will change from 10 to 'auto' in 1.4. Set the value of `n_init` explicitly to suppress the warning\n",
            "  warnings.warn(\n",
            "/usr/local/lib/python3.10/dist-packages/sklearn/cluster/_kmeans.py:870: FutureWarning: The default value of `n_init` will change from 10 to 'auto' in 1.4. Set the value of `n_init` explicitly to suppress the warning\n",
            "  warnings.warn(\n",
            "/usr/local/lib/python3.10/dist-packages/sklearn/cluster/_kmeans.py:870: FutureWarning: The default value of `n_init` will change from 10 to 'auto' in 1.4. Set the value of `n_init` explicitly to suppress the warning\n",
            "  warnings.warn(\n",
            "/usr/local/lib/python3.10/dist-packages/sklearn/cluster/_kmeans.py:870: FutureWarning: The default value of `n_init` will change from 10 to 'auto' in 1.4. Set the value of `n_init` explicitly to suppress the warning\n",
            "  warnings.warn(\n"
          ]
        },
        {
          "output_type": "display_data",
          "data": {
            "text/plain": [
              "<Figure size 640x480 with 1 Axes>"
            ],
            "image/png": "[encoded data removed]"
          },
          "metadata": {}
        }
      ]
    },
    {
      "cell_type": "markdown",
      "source": [
        "X축에 따라 Y축의 감소율이 크게 작아지는 5를 K로 설정\n",
        "\n"
      ],
      "metadata": {
        "id": "q2zYQDt5eOsZ"
      }
    },
    {
      "cell_type": "markdown",
      "source": [
        "## K-means Clustering"
      ],
      "metadata": {
        "id": "wO2BDjpzejUQ"
      }
    },
    {
      "cell_type": "code",
      "source": [
        "kmeans = KMeans(n_clusters=5)\n",
        "kmeans.fit(X)\n",
        "clusters = kmeans.labels_"
      ],
      "metadata": {
        "colab": {
          "base_uri": "https://localhost:8080/"
        },
        "id": "eSSfj-o5fZFA",
        "outputId": "2fa6942b-9453-4a04-99dd-b549c86878f2"
      },
      "execution_count": null,
      "outputs": [
        {
          "output_type": "stream",
          "name": "stderr",
          "text": [
            "/usr/local/lib/python3.10/dist-packages/sklearn/cluster/_kmeans.py:870: FutureWarning: The default value of `n_init` will change from 10 to 'auto' in 1.4. Set the value of `n_init` explicitly to suppress the warning\n",
            "  warnings.warn(\n"
          ]
        }
      ]
    },
    {
      "cell_type": "code",
      "source": [
        "#원본 df에 레이블링\n",
        "df['Cluster'] = clusters"
      ],
      "metadata": {
        "id": "QXwMUsQvftpQ"
      },
      "execution_count": null,
      "outputs": []
    },
    {
      "cell_type": "code",
      "source": [
        "#원본 컬럼 및 군집 레이블 따로 추출\n",
        "df_save = df[['Cluster','perfume','main_accords', 'top notes', 'middle notes','base notes']]"
      ],
      "metadata": {
        "id": "av5InsGukBIW"
      },
      "execution_count": null,
      "outputs": []
    },
    {
      "cell_type": "code",
      "source": [
        "#같은 cluster 값끼리 볼 수 있도록 정렬\n",
        "df_sorted = df_save.sort_values(by='Cluster')"
      ],
      "metadata": {
        "id": "SP6G-x5YgtDD"
      },
      "execution_count": null,
      "outputs": []
    },
    {
      "cell_type": "code",
      "source": [
        "df_sorted.to_csv('Result_Clustering.csv')"
      ],
      "metadata": {
        "id": "w_YJzgv-joug"
      },
      "execution_count": null,
      "outputs": []
    },
    {
      "cell_type": "code",
      "source": [
        "import pickle\n",
        "\n",
        "# Kmeans 모델 저장\n",
        "with open('kmeans_model.pkl', 'wb') as f:\n",
        "    pickle.dump(kmeans, f)"
      ],
      "metadata": {
        "id": "ejr9KUvbkll0"
      },
      "execution_count": null,
      "outputs": []
    },
    {
      "cell_type": "code",
      "source": [
        "\n",
        "# tfidf 모델 저장\n",
        "with open('tfidf_vectorizer.pkl', 'wb') as f:\n",
        "    pickle.dump(vectorizer, f)\n",
        "# word2vec 모델 저장\n",
        "with open('word2vec_model.pkl', 'wb') as f:\n",
        "    pickle.dump(model, f)"
      ],
      "metadata": {
        "id": "GQjtWVYU6APH"
      },
      "execution_count": null,
      "outputs": []
    },
    {
      "cell_type": "code",
      "source": [],
      "metadata": {
        "id": "zxiqs1c3mLvi"
      },
      "execution_count": null,
      "outputs": []
    }
  ]
}